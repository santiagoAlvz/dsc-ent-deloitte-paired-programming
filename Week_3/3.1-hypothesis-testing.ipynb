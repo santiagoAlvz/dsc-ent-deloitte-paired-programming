{
 "cells": [
  {
   "cell_type": "markdown",
   "metadata": {
    "id": "aZtSqIOJdoB5"
   },
   "source": [
    "# Hypothesis Test - Lab"
   ]
  },
  {
   "cell_type": "markdown",
   "metadata": {
    "id": "VYcXqBhLdoB8"
   },
   "source": [
    "## Introduction\n",
    "\n",
    "In this lab, you'll have the opportunity to decide to pick the variables that you want to perform one and two sample t-tests."
   ]
  },
  {
   "cell_type": "markdown",
   "metadata": {
    "id": "bemRQ-KhdoB9"
   },
   "source": [
    "## Objectives\n",
    "\n",
    "You will be able to:\n",
    "\n",
    "* Construct and interpret a confidence interval for a single mean\n",
    "* Perform a hypothesis test for a single mean\n",
    "* Construct and interpret a confidence interval for two independent means\n",
    "* Perform a hypothesis test for two independent means\n"
   ]
  },
  {
   "cell_type": "markdown",
   "metadata": {
    "id": "yveycAz2doB9"
   },
   "source": [
    "## The Data: Last Words of Death Row Inmates\n",
    "\n",
    "On Kaggle there is a famous data set of *[Last Words of Death Row Inmates](https://www.kaggle.com/datasets/mykhe1097/last-words-of-death-row-inmates)*. While this data set is often used for natural language processing, we'll use the non-text data for statistical inference on one and two means using the t-distribution."
   ]
  },
  {
   "cell_type": "markdown",
   "metadata": {
    "id": "AFwoq4PulATc"
   },
   "source": [
    "### Data Dictionary\n",
    "\n",
    "The dataset consists of 545 observations with 21 variables. They are:\n",
    "\n",
    "* `Execution`: The order of execution, numeric.\n",
    "* `LastName`: Last name of the offender, character.\n",
    "* `FirstName`: First name of the offender, character.\n",
    "* `TDCJNumber`: TDCJ Number of the offender, numeric.\n",
    "* `Age`: Age of the offender, numeric.\n",
    "* `Race`: Race of the offender, categorical : Black, Hispanic, White, Other.\n",
    "* `CountyOfConviction`: County of conviction, character.\n",
    "* `AgeWhenReceived`: Age of offender when received, numeric.\n",
    "* `EducationLevel`: Education level of offender, numeric.\n",
    "* `NativeCounty`: Native county of offender, categorical : 0 = Within Texas, 1= Outside Texas.\n",
    "* `PreviousCrime`: Whether the offender committed any crime before, categorical: 0= No, 1= Yes.\n",
    "* `Codefendants`: Number of co-defendants, numeric.\n",
    "* `NumberVictim`: Number of victims, numeric.\n",
    "* `WhiteVictim`, `HispanicVictim`, `BlackVictim`, `VictimOtherRace` `FemaleVictim`, `MaleVictim`: Number of victims with specified demographic features, numeric.\n",
    "* `LastStatement`: Last statement of offender, character.\n",
    "\n",
    "The [data file](https://github.com/learn-co-curriculum/dsc-hypothesis-testing-ent/blob/main/data/texas.csv) that we'll be using has the first 20 variables, i.e. we're excluding the `LastStatement` variable.\n",
    "\n",
    "*N.B.*: Note this data is from 1982 - 2017 and for that time period the data is exhaustive."
   ]
  },
  {
   "cell_type": "markdown",
   "metadata": {
    "id": "Ob72RcZhdoB-"
   },
   "source": [
    "## Preliminary Steps\n",
    "\n",
    "As usual, begin with importing the Python libraries that you will need. Then bring in the data and explore it.\n",
    "\n",
    "You'll likely want to use `scipy.stats`. If you want to use `confidence_interval(confidence_level=0.95)` with [`scipy.stats.ttest_ind`](https://docs.scipy.org/doc/scipy/reference/generated/scipy.stats.ttest_ind.html), then you need to have `scipy` version 1.11.0."
   ]
  },
  {
   "cell_type": "code",
   "metadata": {
    "id": "pmDB4q8y3VsE",
    "ExecuteTime": {
     "end_time": "2024-09-04T21:56:40.089632Z",
     "start_time": "2024-09-04T21:56:40.081009Z"
    }
   },
   "source": [
    "\n",
    "__requires__= 'scipy==11.1.0'\n",
    "\n",
    "# Bring in germane libraries\n",
    "import pandas as pd\n",
    "import matplotlib.pyplot as plt\n",
    "import scipy\n",
    "import scipy.stats as stats\n",
    "\n",
    "scipy.__version__"
   ],
   "outputs": [
    {
     "data": {
      "text/plain": [
       "'1.13.1'"
      ]
     },
     "execution_count": 2,
     "metadata": {},
     "output_type": "execute_result"
    }
   ],
   "execution_count": 2
  },
  {
   "cell_type": "code",
   "metadata": {
    "id": "R2cLU3rcdoB9",
    "ExecuteTime": {
     "end_time": "2024-09-04T21:56:40.285721Z",
     "start_time": "2024-09-04T21:56:40.267354Z"
    }
   },
   "source": [
    "# Read data into dataframe\n",
    "df = pd.read_csv('data/texas.csv', index_col=0)"
   ],
   "outputs": [],
   "execution_count": 3
  },
  {
   "cell_type": "markdown",
   "metadata": {
    "id": "I63AnyI7j1wJ"
   },
   "source": [
    "Now that you have brought in the data. Consider these or similar commands to get a feel for the data.\n",
    "* `.info()`\n",
    "* `.head()`\n",
    "\n"
   ]
  },
  {
   "cell_type": "code",
   "metadata": {
    "colab": {
     "base_uri": "https://localhost:8080/"
    },
    "id": "vkvQRA3BkHlP",
    "outputId": "4ae884a7-ca7a-47f8-eaca-c34a7f610015",
    "ExecuteTime": {
     "end_time": "2024-09-04T21:56:40.548884Z",
     "start_time": "2024-09-04T21:56:40.528518Z"
    }
   },
   "source": [
    "# Get DataFrame info\n",
    "df.info()"
   ],
   "outputs": [
    {
     "name": "stdout",
     "output_type": "stream",
     "text": [
      "<class 'pandas.core.frame.DataFrame'>\n",
      "Index: 383 entries, Cardenas to Brooks, Jr.\n",
      "Data columns (total 17 columns):\n",
      " #   Column              Non-Null Count  Dtype \n",
      "---  ------              --------------  ----- \n",
      " 0   FirstName           383 non-null    object\n",
      " 1   TDCJNumber          383 non-null    int64 \n",
      " 2   Age                 383 non-null    int64 \n",
      " 3   Race                383 non-null    object\n",
      " 4   CountyOfConviction  383 non-null    object\n",
      " 5   AgeWhenReceived     383 non-null    int64 \n",
      " 6   EducationLevel      383 non-null    int64 \n",
      " 7   NativeCounty        383 non-null    int64 \n",
      " 8   PreviousCrime       383 non-null    int64 \n",
      " 9   Codefendants        383 non-null    int64 \n",
      " 10  NumberVictim        383 non-null    int64 \n",
      " 11  WhiteVictim         383 non-null    int64 \n",
      " 12  HispanicVictim      383 non-null    int64 \n",
      " 13  BlackVictim         383 non-null    int64 \n",
      " 14  VictimOther.Races   383 non-null    int64 \n",
      " 15  FemaleVictim        383 non-null    int64 \n",
      " 16  MaleVictim          383 non-null    int64 \n",
      "dtypes: int64(14), object(3)\n",
      "memory usage: 53.9+ KB\n"
     ]
    }
   ],
   "execution_count": 4
  },
  {
   "cell_type": "code",
   "metadata": {
    "colab": {
     "base_uri": "https://localhost:8080/",
     "height": 302
    },
    "id": "crurIpEekzdz",
    "outputId": "e8017062-f095-47ea-a45c-ee8b82ee3397",
    "ExecuteTime": {
     "end_time": "2024-09-04T21:56:40.713600Z",
     "start_time": "2024-09-04T21:56:40.689720Z"
    }
   },
   "source": [
    "# head\n",
    "df.head()"
   ],
   "outputs": [
    {
     "data": {
      "text/plain": [
       "         FirstName  TDCJNumber  Age      Race CountyOfConviction  \\\n",
       "LastName                                                           \n",
       "Cardenas     Ruben      999275   47  Hispanic            Hidalgo   \n",
       "Pruett      Robert      999411   38     White                Bee   \n",
       "Preyor     Taichin      999494   46     Black              Bexar   \n",
       "Bigby        James         997   61     White            Tarrant   \n",
       "Ruiz       Rolando      999145   44  Hispanic              Bexar   \n",
       "\n",
       "          AgeWhenReceived  EducationLevel  NativeCounty  PreviousCrime  \\\n",
       "LastName                                                                 \n",
       "Cardenas               28              11             1              0   \n",
       "Pruett                 22               8             0              1   \n",
       "Preyor                 34              10             0              0   \n",
       "Bigby                  36               9             0              1   \n",
       "Ruiz                   22              10             0              1   \n",
       "\n",
       "          Codefendants  NumberVictim  WhiteVictim  HispanicVictim  \\\n",
       "LastName                                                            \n",
       "Cardenas             0             1            0               1   \n",
       "Pruett               0             1            1               0   \n",
       "Preyor               0             1            1               0   \n",
       "Bigby                0             1            1               0   \n",
       "Ruiz                 4             1            0               1   \n",
       "\n",
       "          BlackVictim  VictimOther.Races  FemaleVictim  MaleVictim  \n",
       "LastName                                                            \n",
       "Cardenas            0                  0             1           0  \n",
       "Pruett              0                  0             0           1  \n",
       "Preyor              0                  0             0           1  \n",
       "Bigby               0                  0             0           1  \n",
       "Ruiz                0                  0             1           0  "
      ],
      "text/html": [
       "<div>\n",
       "<style scoped>\n",
       "    .dataframe tbody tr th:only-of-type {\n",
       "        vertical-align: middle;\n",
       "    }\n",
       "\n",
       "    .dataframe tbody tr th {\n",
       "        vertical-align: top;\n",
       "    }\n",
       "\n",
       "    .dataframe thead th {\n",
       "        text-align: right;\n",
       "    }\n",
       "</style>\n",
       "<table border=\"1\" class=\"dataframe\">\n",
       "  <thead>\n",
       "    <tr style=\"text-align: right;\">\n",
       "      <th></th>\n",
       "      <th>FirstName</th>\n",
       "      <th>TDCJNumber</th>\n",
       "      <th>Age</th>\n",
       "      <th>Race</th>\n",
       "      <th>CountyOfConviction</th>\n",
       "      <th>AgeWhenReceived</th>\n",
       "      <th>EducationLevel</th>\n",
       "      <th>NativeCounty</th>\n",
       "      <th>PreviousCrime</th>\n",
       "      <th>Codefendants</th>\n",
       "      <th>NumberVictim</th>\n",
       "      <th>WhiteVictim</th>\n",
       "      <th>HispanicVictim</th>\n",
       "      <th>BlackVictim</th>\n",
       "      <th>VictimOther.Races</th>\n",
       "      <th>FemaleVictim</th>\n",
       "      <th>MaleVictim</th>\n",
       "    </tr>\n",
       "    <tr>\n",
       "      <th>LastName</th>\n",
       "      <th></th>\n",
       "      <th></th>\n",
       "      <th></th>\n",
       "      <th></th>\n",
       "      <th></th>\n",
       "      <th></th>\n",
       "      <th></th>\n",
       "      <th></th>\n",
       "      <th></th>\n",
       "      <th></th>\n",
       "      <th></th>\n",
       "      <th></th>\n",
       "      <th></th>\n",
       "      <th></th>\n",
       "      <th></th>\n",
       "      <th></th>\n",
       "      <th></th>\n",
       "    </tr>\n",
       "  </thead>\n",
       "  <tbody>\n",
       "    <tr>\n",
       "      <th>Cardenas</th>\n",
       "      <td>Ruben</td>\n",
       "      <td>999275</td>\n",
       "      <td>47</td>\n",
       "      <td>Hispanic</td>\n",
       "      <td>Hidalgo</td>\n",
       "      <td>28</td>\n",
       "      <td>11</td>\n",
       "      <td>1</td>\n",
       "      <td>0</td>\n",
       "      <td>0</td>\n",
       "      <td>1</td>\n",
       "      <td>0</td>\n",
       "      <td>1</td>\n",
       "      <td>0</td>\n",
       "      <td>0</td>\n",
       "      <td>1</td>\n",
       "      <td>0</td>\n",
       "    </tr>\n",
       "    <tr>\n",
       "      <th>Pruett</th>\n",
       "      <td>Robert</td>\n",
       "      <td>999411</td>\n",
       "      <td>38</td>\n",
       "      <td>White</td>\n",
       "      <td>Bee</td>\n",
       "      <td>22</td>\n",
       "      <td>8</td>\n",
       "      <td>0</td>\n",
       "      <td>1</td>\n",
       "      <td>0</td>\n",
       "      <td>1</td>\n",
       "      <td>1</td>\n",
       "      <td>0</td>\n",
       "      <td>0</td>\n",
       "      <td>0</td>\n",
       "      <td>0</td>\n",
       "      <td>1</td>\n",
       "    </tr>\n",
       "    <tr>\n",
       "      <th>Preyor</th>\n",
       "      <td>Taichin</td>\n",
       "      <td>999494</td>\n",
       "      <td>46</td>\n",
       "      <td>Black</td>\n",
       "      <td>Bexar</td>\n",
       "      <td>34</td>\n",
       "      <td>10</td>\n",
       "      <td>0</td>\n",
       "      <td>0</td>\n",
       "      <td>0</td>\n",
       "      <td>1</td>\n",
       "      <td>1</td>\n",
       "      <td>0</td>\n",
       "      <td>0</td>\n",
       "      <td>0</td>\n",
       "      <td>0</td>\n",
       "      <td>1</td>\n",
       "    </tr>\n",
       "    <tr>\n",
       "      <th>Bigby</th>\n",
       "      <td>James</td>\n",
       "      <td>997</td>\n",
       "      <td>61</td>\n",
       "      <td>White</td>\n",
       "      <td>Tarrant</td>\n",
       "      <td>36</td>\n",
       "      <td>9</td>\n",
       "      <td>0</td>\n",
       "      <td>1</td>\n",
       "      <td>0</td>\n",
       "      <td>1</td>\n",
       "      <td>1</td>\n",
       "      <td>0</td>\n",
       "      <td>0</td>\n",
       "      <td>0</td>\n",
       "      <td>0</td>\n",
       "      <td>1</td>\n",
       "    </tr>\n",
       "    <tr>\n",
       "      <th>Ruiz</th>\n",
       "      <td>Rolando</td>\n",
       "      <td>999145</td>\n",
       "      <td>44</td>\n",
       "      <td>Hispanic</td>\n",
       "      <td>Bexar</td>\n",
       "      <td>22</td>\n",
       "      <td>10</td>\n",
       "      <td>0</td>\n",
       "      <td>1</td>\n",
       "      <td>4</td>\n",
       "      <td>1</td>\n",
       "      <td>0</td>\n",
       "      <td>1</td>\n",
       "      <td>0</td>\n",
       "      <td>0</td>\n",
       "      <td>1</td>\n",
       "      <td>0</td>\n",
       "    </tr>\n",
       "  </tbody>\n",
       "</table>\n",
       "</div>"
      ]
     },
     "execution_count": 5,
     "metadata": {},
     "output_type": "execute_result"
    }
   ],
   "execution_count": 5
  },
  {
   "metadata": {
    "ExecuteTime": {
     "end_time": "2024-09-04T21:56:41.021621Z",
     "start_time": "2024-09-04T21:56:40.959602Z"
    }
   },
   "cell_type": "code",
   "source": "df.describe()",
   "outputs": [
    {
     "data": {
      "text/plain": [
       "          TDCJNumber         Age  AgeWhenReceived  EducationLevel  \\\n",
       "count     383.000000  383.000000       383.000000      383.000000   \n",
       "mean   579540.853786   39.373368        28.503916       10.182768   \n",
       "std    493478.236004    8.653542         8.181793        2.071501   \n",
       "min       511.000000   24.000000        17.000000        0.000000   \n",
       "25%       873.000000   33.000000        22.000000        9.000000   \n",
       "50%    999080.000000   38.000000        26.000000       10.000000   \n",
       "75%    999265.500000   44.000000        33.500000       12.000000   \n",
       "max    999552.000000   67.000000        57.000000       16.000000   \n",
       "\n",
       "       NativeCounty  PreviousCrime  Codefendants  NumberVictim  WhiteVictim  \\\n",
       "count    383.000000     383.000000    383.000000    383.000000   383.000000   \n",
       "mean       0.389034       0.506527      0.814621      1.394256     0.916449   \n",
       "std        0.562888       0.500611      1.296227      0.761418     0.842780   \n",
       "min        0.000000       0.000000      0.000000      0.000000     0.000000   \n",
       "25%        0.000000       0.000000      0.000000      1.000000     0.000000   \n",
       "50%        0.000000       1.000000      0.000000      1.000000     1.000000   \n",
       "75%        1.000000       1.000000      1.000000      2.000000     1.000000   \n",
       "max        6.000000       1.000000     13.000000      6.000000     5.000000   \n",
       "\n",
       "       HispanicVictim  BlackVictim  VictimOther.Races  FemaleVictim  \\\n",
       "count      383.000000    383.00000         383.000000    383.000000   \n",
       "mean         0.248042      0.21671           0.026110      0.689295   \n",
       "std          0.604165      0.65325           0.215492      0.775991   \n",
       "min          0.000000      0.00000           0.000000      0.000000   \n",
       "25%          0.000000      0.00000           0.000000      0.000000   \n",
       "50%          0.000000      0.00000           0.000000      1.000000   \n",
       "75%          0.000000      0.00000           0.000000      1.000000   \n",
       "max          4.000000      6.00000           3.000000      5.000000   \n",
       "\n",
       "       MaleVictim  \n",
       "count  383.000000  \n",
       "mean     0.720627  \n",
       "std      0.721958  \n",
       "min      0.000000  \n",
       "25%      0.000000  \n",
       "50%      1.000000  \n",
       "75%      1.000000  \n",
       "max      4.000000  "
      ],
      "text/html": [
       "<div>\n",
       "<style scoped>\n",
       "    .dataframe tbody tr th:only-of-type {\n",
       "        vertical-align: middle;\n",
       "    }\n",
       "\n",
       "    .dataframe tbody tr th {\n",
       "        vertical-align: top;\n",
       "    }\n",
       "\n",
       "    .dataframe thead th {\n",
       "        text-align: right;\n",
       "    }\n",
       "</style>\n",
       "<table border=\"1\" class=\"dataframe\">\n",
       "  <thead>\n",
       "    <tr style=\"text-align: right;\">\n",
       "      <th></th>\n",
       "      <th>TDCJNumber</th>\n",
       "      <th>Age</th>\n",
       "      <th>AgeWhenReceived</th>\n",
       "      <th>EducationLevel</th>\n",
       "      <th>NativeCounty</th>\n",
       "      <th>PreviousCrime</th>\n",
       "      <th>Codefendants</th>\n",
       "      <th>NumberVictim</th>\n",
       "      <th>WhiteVictim</th>\n",
       "      <th>HispanicVictim</th>\n",
       "      <th>BlackVictim</th>\n",
       "      <th>VictimOther.Races</th>\n",
       "      <th>FemaleVictim</th>\n",
       "      <th>MaleVictim</th>\n",
       "    </tr>\n",
       "  </thead>\n",
       "  <tbody>\n",
       "    <tr>\n",
       "      <th>count</th>\n",
       "      <td>383.000000</td>\n",
       "      <td>383.000000</td>\n",
       "      <td>383.000000</td>\n",
       "      <td>383.000000</td>\n",
       "      <td>383.000000</td>\n",
       "      <td>383.000000</td>\n",
       "      <td>383.000000</td>\n",
       "      <td>383.000000</td>\n",
       "      <td>383.000000</td>\n",
       "      <td>383.000000</td>\n",
       "      <td>383.00000</td>\n",
       "      <td>383.000000</td>\n",
       "      <td>383.000000</td>\n",
       "      <td>383.000000</td>\n",
       "    </tr>\n",
       "    <tr>\n",
       "      <th>mean</th>\n",
       "      <td>579540.853786</td>\n",
       "      <td>39.373368</td>\n",
       "      <td>28.503916</td>\n",
       "      <td>10.182768</td>\n",
       "      <td>0.389034</td>\n",
       "      <td>0.506527</td>\n",
       "      <td>0.814621</td>\n",
       "      <td>1.394256</td>\n",
       "      <td>0.916449</td>\n",
       "      <td>0.248042</td>\n",
       "      <td>0.21671</td>\n",
       "      <td>0.026110</td>\n",
       "      <td>0.689295</td>\n",
       "      <td>0.720627</td>\n",
       "    </tr>\n",
       "    <tr>\n",
       "      <th>std</th>\n",
       "      <td>493478.236004</td>\n",
       "      <td>8.653542</td>\n",
       "      <td>8.181793</td>\n",
       "      <td>2.071501</td>\n",
       "      <td>0.562888</td>\n",
       "      <td>0.500611</td>\n",
       "      <td>1.296227</td>\n",
       "      <td>0.761418</td>\n",
       "      <td>0.842780</td>\n",
       "      <td>0.604165</td>\n",
       "      <td>0.65325</td>\n",
       "      <td>0.215492</td>\n",
       "      <td>0.775991</td>\n",
       "      <td>0.721958</td>\n",
       "    </tr>\n",
       "    <tr>\n",
       "      <th>min</th>\n",
       "      <td>511.000000</td>\n",
       "      <td>24.000000</td>\n",
       "      <td>17.000000</td>\n",
       "      <td>0.000000</td>\n",
       "      <td>0.000000</td>\n",
       "      <td>0.000000</td>\n",
       "      <td>0.000000</td>\n",
       "      <td>0.000000</td>\n",
       "      <td>0.000000</td>\n",
       "      <td>0.000000</td>\n",
       "      <td>0.00000</td>\n",
       "      <td>0.000000</td>\n",
       "      <td>0.000000</td>\n",
       "      <td>0.000000</td>\n",
       "    </tr>\n",
       "    <tr>\n",
       "      <th>25%</th>\n",
       "      <td>873.000000</td>\n",
       "      <td>33.000000</td>\n",
       "      <td>22.000000</td>\n",
       "      <td>9.000000</td>\n",
       "      <td>0.000000</td>\n",
       "      <td>0.000000</td>\n",
       "      <td>0.000000</td>\n",
       "      <td>1.000000</td>\n",
       "      <td>0.000000</td>\n",
       "      <td>0.000000</td>\n",
       "      <td>0.00000</td>\n",
       "      <td>0.000000</td>\n",
       "      <td>0.000000</td>\n",
       "      <td>0.000000</td>\n",
       "    </tr>\n",
       "    <tr>\n",
       "      <th>50%</th>\n",
       "      <td>999080.000000</td>\n",
       "      <td>38.000000</td>\n",
       "      <td>26.000000</td>\n",
       "      <td>10.000000</td>\n",
       "      <td>0.000000</td>\n",
       "      <td>1.000000</td>\n",
       "      <td>0.000000</td>\n",
       "      <td>1.000000</td>\n",
       "      <td>1.000000</td>\n",
       "      <td>0.000000</td>\n",
       "      <td>0.00000</td>\n",
       "      <td>0.000000</td>\n",
       "      <td>1.000000</td>\n",
       "      <td>1.000000</td>\n",
       "    </tr>\n",
       "    <tr>\n",
       "      <th>75%</th>\n",
       "      <td>999265.500000</td>\n",
       "      <td>44.000000</td>\n",
       "      <td>33.500000</td>\n",
       "      <td>12.000000</td>\n",
       "      <td>1.000000</td>\n",
       "      <td>1.000000</td>\n",
       "      <td>1.000000</td>\n",
       "      <td>2.000000</td>\n",
       "      <td>1.000000</td>\n",
       "      <td>0.000000</td>\n",
       "      <td>0.00000</td>\n",
       "      <td>0.000000</td>\n",
       "      <td>1.000000</td>\n",
       "      <td>1.000000</td>\n",
       "    </tr>\n",
       "    <tr>\n",
       "      <th>max</th>\n",
       "      <td>999552.000000</td>\n",
       "      <td>67.000000</td>\n",
       "      <td>57.000000</td>\n",
       "      <td>16.000000</td>\n",
       "      <td>6.000000</td>\n",
       "      <td>1.000000</td>\n",
       "      <td>13.000000</td>\n",
       "      <td>6.000000</td>\n",
       "      <td>5.000000</td>\n",
       "      <td>4.000000</td>\n",
       "      <td>6.00000</td>\n",
       "      <td>3.000000</td>\n",
       "      <td>5.000000</td>\n",
       "      <td>4.000000</td>\n",
       "    </tr>\n",
       "  </tbody>\n",
       "</table>\n",
       "</div>"
      ]
     },
     "execution_count": 6,
     "metadata": {},
     "output_type": "execute_result"
    }
   ],
   "execution_count": 6
  },
  {
   "cell_type": "markdown",
   "metadata": {
    "id": "mzP09_zBdoB_"
   },
   "source": [
    "### Preprocessing"
   ]
  },
  {
   "cell_type": "markdown",
   "metadata": {
    "id": "tm9XD1lWxBXW"
   },
   "source": [
    "While there are a number of preprocessing steps you may choose to make, at the very least you should do the following.\n",
    "\n",
    "Based on the data dictionary and how the data is interpreted by Numpy, convert any non-numeric data into the proper form. Verify that your code worked correctly."
   ]
  },
  {
   "cell_type": "code",
   "metadata": {
    "id": "zOU2yTTBdoB_",
    "ExecuteTime": {
     "end_time": "2024-09-04T21:56:41.680904Z",
     "start_time": "2024-09-04T21:56:41.657902Z"
    }
   },
   "source": [
    "# Use the map function to change the two variables\n",
    "df[\"NativeCounty\"] = df[\"NativeCounty\"].map({0: \"Within Texas\", 1: \"Outside Texas\"})\n",
    "df[\"PreviousCrime\"] = df[\"PreviousCrime\"].map({0: \"No\", 1: \"Yes\"})\n",
    "df = df.reset_index()"
   ],
   "outputs": [],
   "execution_count": 7
  },
  {
   "cell_type": "code",
   "metadata": {
    "colab": {
     "base_uri": "https://localhost:8080/",
     "height": 302
    },
    "id": "wNWgeYFYp3wg",
    "outputId": "08299ba1-a4db-4a88-ed71-a30eaa05b75f",
    "ExecuteTime": {
     "end_time": "2024-09-04T21:56:42.528542Z",
     "start_time": "2024-09-04T21:56:42.509086Z"
    }
   },
   "source": [
    "# Verify this was done correctly\n",
    "# head\n",
    "df.head()"
   ],
   "outputs": [
    {
     "data": {
      "text/plain": [
       "   LastName FirstName  TDCJNumber  Age      Race CountyOfConviction  \\\n",
       "0  Cardenas     Ruben      999275   47  Hispanic            Hidalgo   \n",
       "1    Pruett    Robert      999411   38     White                Bee   \n",
       "2    Preyor   Taichin      999494   46     Black              Bexar   \n",
       "3     Bigby     James         997   61     White            Tarrant   \n",
       "4      Ruiz   Rolando      999145   44  Hispanic              Bexar   \n",
       "\n",
       "   AgeWhenReceived  EducationLevel   NativeCounty PreviousCrime  Codefendants  \\\n",
       "0               28              11  Outside Texas            No             0   \n",
       "1               22               8   Within Texas           Yes             0   \n",
       "2               34              10   Within Texas            No             0   \n",
       "3               36               9   Within Texas           Yes             0   \n",
       "4               22              10   Within Texas           Yes             4   \n",
       "\n",
       "   NumberVictim  WhiteVictim  HispanicVictim  BlackVictim  VictimOther.Races  \\\n",
       "0             1            0               1            0                  0   \n",
       "1             1            1               0            0                  0   \n",
       "2             1            1               0            0                  0   \n",
       "3             1            1               0            0                  0   \n",
       "4             1            0               1            0                  0   \n",
       "\n",
       "   FemaleVictim  MaleVictim  \n",
       "0             1           0  \n",
       "1             0           1  \n",
       "2             0           1  \n",
       "3             0           1  \n",
       "4             1           0  "
      ],
      "text/html": [
       "<div>\n",
       "<style scoped>\n",
       "    .dataframe tbody tr th:only-of-type {\n",
       "        vertical-align: middle;\n",
       "    }\n",
       "\n",
       "    .dataframe tbody tr th {\n",
       "        vertical-align: top;\n",
       "    }\n",
       "\n",
       "    .dataframe thead th {\n",
       "        text-align: right;\n",
       "    }\n",
       "</style>\n",
       "<table border=\"1\" class=\"dataframe\">\n",
       "  <thead>\n",
       "    <tr style=\"text-align: right;\">\n",
       "      <th></th>\n",
       "      <th>LastName</th>\n",
       "      <th>FirstName</th>\n",
       "      <th>TDCJNumber</th>\n",
       "      <th>Age</th>\n",
       "      <th>Race</th>\n",
       "      <th>CountyOfConviction</th>\n",
       "      <th>AgeWhenReceived</th>\n",
       "      <th>EducationLevel</th>\n",
       "      <th>NativeCounty</th>\n",
       "      <th>PreviousCrime</th>\n",
       "      <th>Codefendants</th>\n",
       "      <th>NumberVictim</th>\n",
       "      <th>WhiteVictim</th>\n",
       "      <th>HispanicVictim</th>\n",
       "      <th>BlackVictim</th>\n",
       "      <th>VictimOther.Races</th>\n",
       "      <th>FemaleVictim</th>\n",
       "      <th>MaleVictim</th>\n",
       "    </tr>\n",
       "  </thead>\n",
       "  <tbody>\n",
       "    <tr>\n",
       "      <th>0</th>\n",
       "      <td>Cardenas</td>\n",
       "      <td>Ruben</td>\n",
       "      <td>999275</td>\n",
       "      <td>47</td>\n",
       "      <td>Hispanic</td>\n",
       "      <td>Hidalgo</td>\n",
       "      <td>28</td>\n",
       "      <td>11</td>\n",
       "      <td>Outside Texas</td>\n",
       "      <td>No</td>\n",
       "      <td>0</td>\n",
       "      <td>1</td>\n",
       "      <td>0</td>\n",
       "      <td>1</td>\n",
       "      <td>0</td>\n",
       "      <td>0</td>\n",
       "      <td>1</td>\n",
       "      <td>0</td>\n",
       "    </tr>\n",
       "    <tr>\n",
       "      <th>1</th>\n",
       "      <td>Pruett</td>\n",
       "      <td>Robert</td>\n",
       "      <td>999411</td>\n",
       "      <td>38</td>\n",
       "      <td>White</td>\n",
       "      <td>Bee</td>\n",
       "      <td>22</td>\n",
       "      <td>8</td>\n",
       "      <td>Within Texas</td>\n",
       "      <td>Yes</td>\n",
       "      <td>0</td>\n",
       "      <td>1</td>\n",
       "      <td>1</td>\n",
       "      <td>0</td>\n",
       "      <td>0</td>\n",
       "      <td>0</td>\n",
       "      <td>0</td>\n",
       "      <td>1</td>\n",
       "    </tr>\n",
       "    <tr>\n",
       "      <th>2</th>\n",
       "      <td>Preyor</td>\n",
       "      <td>Taichin</td>\n",
       "      <td>999494</td>\n",
       "      <td>46</td>\n",
       "      <td>Black</td>\n",
       "      <td>Bexar</td>\n",
       "      <td>34</td>\n",
       "      <td>10</td>\n",
       "      <td>Within Texas</td>\n",
       "      <td>No</td>\n",
       "      <td>0</td>\n",
       "      <td>1</td>\n",
       "      <td>1</td>\n",
       "      <td>0</td>\n",
       "      <td>0</td>\n",
       "      <td>0</td>\n",
       "      <td>0</td>\n",
       "      <td>1</td>\n",
       "    </tr>\n",
       "    <tr>\n",
       "      <th>3</th>\n",
       "      <td>Bigby</td>\n",
       "      <td>James</td>\n",
       "      <td>997</td>\n",
       "      <td>61</td>\n",
       "      <td>White</td>\n",
       "      <td>Tarrant</td>\n",
       "      <td>36</td>\n",
       "      <td>9</td>\n",
       "      <td>Within Texas</td>\n",
       "      <td>Yes</td>\n",
       "      <td>0</td>\n",
       "      <td>1</td>\n",
       "      <td>1</td>\n",
       "      <td>0</td>\n",
       "      <td>0</td>\n",
       "      <td>0</td>\n",
       "      <td>0</td>\n",
       "      <td>1</td>\n",
       "    </tr>\n",
       "    <tr>\n",
       "      <th>4</th>\n",
       "      <td>Ruiz</td>\n",
       "      <td>Rolando</td>\n",
       "      <td>999145</td>\n",
       "      <td>44</td>\n",
       "      <td>Hispanic</td>\n",
       "      <td>Bexar</td>\n",
       "      <td>22</td>\n",
       "      <td>10</td>\n",
       "      <td>Within Texas</td>\n",
       "      <td>Yes</td>\n",
       "      <td>4</td>\n",
       "      <td>1</td>\n",
       "      <td>0</td>\n",
       "      <td>1</td>\n",
       "      <td>0</td>\n",
       "      <td>0</td>\n",
       "      <td>1</td>\n",
       "      <td>0</td>\n",
       "    </tr>\n",
       "  </tbody>\n",
       "</table>\n",
       "</div>"
      ]
     },
     "execution_count": 8,
     "metadata": {},
     "output_type": "execute_result"
    }
   ],
   "execution_count": 8
  },
  {
   "cell_type": "code",
   "metadata": {
    "colab": {
     "base_uri": "https://localhost:8080/"
    },
    "id": "89Uh5cuTp9T4",
    "outputId": "3d843fbd-b1cf-4537-cd1b-05ba160ec937",
    "ExecuteTime": {
     "end_time": "2024-09-04T21:56:43.252697Z",
     "start_time": "2024-09-04T21:56:43.239977Z"
    }
   },
   "source": [
    "# Verify this was done correctly\n",
    "# info\n",
    "df.info()"
   ],
   "outputs": [
    {
     "name": "stdout",
     "output_type": "stream",
     "text": [
      "<class 'pandas.core.frame.DataFrame'>\n",
      "RangeIndex: 383 entries, 0 to 382\n",
      "Data columns (total 18 columns):\n",
      " #   Column              Non-Null Count  Dtype \n",
      "---  ------              --------------  ----- \n",
      " 0   LastName            383 non-null    object\n",
      " 1   FirstName           383 non-null    object\n",
      " 2   TDCJNumber          383 non-null    int64 \n",
      " 3   Age                 383 non-null    int64 \n",
      " 4   Race                383 non-null    object\n",
      " 5   CountyOfConviction  383 non-null    object\n",
      " 6   AgeWhenReceived     383 non-null    int64 \n",
      " 7   EducationLevel      383 non-null    int64 \n",
      " 8   NativeCounty        382 non-null    object\n",
      " 9   PreviousCrime       383 non-null    object\n",
      " 10  Codefendants        383 non-null    int64 \n",
      " 11  NumberVictim        383 non-null    int64 \n",
      " 12  WhiteVictim         383 non-null    int64 \n",
      " 13  HispanicVictim      383 non-null    int64 \n",
      " 14  BlackVictim         383 non-null    int64 \n",
      " 15  VictimOther.Races   383 non-null    int64 \n",
      " 16  FemaleVictim        383 non-null    int64 \n",
      " 17  MaleVictim          383 non-null    int64 \n",
      "dtypes: int64(12), object(6)\n",
      "memory usage: 54.0+ KB\n"
     ]
    }
   ],
   "execution_count": 9
  },
  {
   "cell_type": "markdown",
   "metadata": {
    "id": "0YKRMML9sMZd"
   },
   "source": [
    "### EDA\n",
    "\n",
    "Now perform Exploratory Data Analysis of at least three variables of your choosing. You should look at both descriptive statistics and visualizations."
   ]
  },
  {
   "cell_type": "code",
   "metadata": {
    "colab": {
     "base_uri": "https://localhost:8080/",
     "height": 364
    },
    "id": "6ywarJPosbIm",
    "outputId": "104653ae-4443-404a-c6b9-a15956928e9f",
    "ExecuteTime": {
     "end_time": "2024-09-04T21:56:43.843029Z",
     "start_time": "2024-09-04T21:56:43.823038Z"
    }
   },
   "source": [
    "# EDA code sample\n",
    "# describe\n",
    "small_df = df[[\"Age\", \"EducationLevel\", \"NumberVictim\", \"PreviousCrime\"]]\n",
    "small_df.describe()"
   ],
   "outputs": [
    {
     "data": {
      "text/plain": [
       "              Age  EducationLevel  NumberVictim\n",
       "count  383.000000      383.000000    383.000000\n",
       "mean    39.373368       10.182768      1.394256\n",
       "std      8.653542        2.071501      0.761418\n",
       "min     24.000000        0.000000      0.000000\n",
       "25%     33.000000        9.000000      1.000000\n",
       "50%     38.000000       10.000000      1.000000\n",
       "75%     44.000000       12.000000      2.000000\n",
       "max     67.000000       16.000000      6.000000"
      ],
      "text/html": [
       "<div>\n",
       "<style scoped>\n",
       "    .dataframe tbody tr th:only-of-type {\n",
       "        vertical-align: middle;\n",
       "    }\n",
       "\n",
       "    .dataframe tbody tr th {\n",
       "        vertical-align: top;\n",
       "    }\n",
       "\n",
       "    .dataframe thead th {\n",
       "        text-align: right;\n",
       "    }\n",
       "</style>\n",
       "<table border=\"1\" class=\"dataframe\">\n",
       "  <thead>\n",
       "    <tr style=\"text-align: right;\">\n",
       "      <th></th>\n",
       "      <th>Age</th>\n",
       "      <th>EducationLevel</th>\n",
       "      <th>NumberVictim</th>\n",
       "    </tr>\n",
       "  </thead>\n",
       "  <tbody>\n",
       "    <tr>\n",
       "      <th>count</th>\n",
       "      <td>383.000000</td>\n",
       "      <td>383.000000</td>\n",
       "      <td>383.000000</td>\n",
       "    </tr>\n",
       "    <tr>\n",
       "      <th>mean</th>\n",
       "      <td>39.373368</td>\n",
       "      <td>10.182768</td>\n",
       "      <td>1.394256</td>\n",
       "    </tr>\n",
       "    <tr>\n",
       "      <th>std</th>\n",
       "      <td>8.653542</td>\n",
       "      <td>2.071501</td>\n",
       "      <td>0.761418</td>\n",
       "    </tr>\n",
       "    <tr>\n",
       "      <th>min</th>\n",
       "      <td>24.000000</td>\n",
       "      <td>0.000000</td>\n",
       "      <td>0.000000</td>\n",
       "    </tr>\n",
       "    <tr>\n",
       "      <th>25%</th>\n",
       "      <td>33.000000</td>\n",
       "      <td>9.000000</td>\n",
       "      <td>1.000000</td>\n",
       "    </tr>\n",
       "    <tr>\n",
       "      <th>50%</th>\n",
       "      <td>38.000000</td>\n",
       "      <td>10.000000</td>\n",
       "      <td>1.000000</td>\n",
       "    </tr>\n",
       "    <tr>\n",
       "      <th>75%</th>\n",
       "      <td>44.000000</td>\n",
       "      <td>12.000000</td>\n",
       "      <td>2.000000</td>\n",
       "    </tr>\n",
       "    <tr>\n",
       "      <th>max</th>\n",
       "      <td>67.000000</td>\n",
       "      <td>16.000000</td>\n",
       "      <td>6.000000</td>\n",
       "    </tr>\n",
       "  </tbody>\n",
       "</table>\n",
       "</div>"
      ]
     },
     "execution_count": 10,
     "metadata": {},
     "output_type": "execute_result"
    }
   ],
   "execution_count": 10
  },
  {
   "metadata": {},
   "cell_type": "markdown",
   "source": [
    "### Age\n",
    "\n",
    "The age of offenders has an average of 39 years and most of the offender seem to be between 33 and 44 years old.\n",
    "Youngest offender is 24 years and oldest offender is 67 years old.\n",
    "\n",
    "This column seems to follow an approximately normal distribution skewed to the right."
   ]
  },
  {
   "metadata": {
    "ExecuteTime": {
     "end_time": "2024-09-04T21:56:44.917093Z",
     "start_time": "2024-09-04T21:56:44.593403Z"
    }
   },
   "cell_type": "code",
   "source": [
    "small_df[\"Age\"].plot(kind='hist', bins=20)\n",
    "plt.title(\"Age\")\n",
    "plt.show()"
   ],
   "outputs": [
    {
     "data": {
      "text/plain": [
       "<Figure size 640x480 with 1 Axes>"
      ],
      "image/png": "[encoded data removed]"
     },
     "metadata": {},
     "output_type": "display_data"
    }
   ],
   "execution_count": 11
  },
  {
   "metadata": {},
   "cell_type": "markdown",
   "source": [
    "### Education Level\n",
    "\n",
    "We make the assumptions that 12 years mean that the offender completed high school and 16 years mean that the offender completed college. The average offender completed 10 years so, a little bit of high school.\n",
    "\n",
    "The bulk of the distribution is between 8 and 12 years."
   ]
  },
  {
   "metadata": {
    "ExecuteTime": {
     "end_time": "2024-09-04T21:56:45.680304Z",
     "start_time": "2024-09-04T21:56:45.475707Z"
    }
   },
   "cell_type": "code",
   "source": [
    "small_df[\"EducationLevel\"].value_counts().sort_index().plot(kind='bar')\n",
    "plt.title(\"Education Level\")\n",
    "plt.show()"
   ],
   "outputs": [
    {
     "data": {
      "text/plain": [
       "<Figure size 640x480 with 1 Axes>"
      ],
      "image/png": "[encoded data removed]"
     },
     "metadata": {},
     "output_type": "display_data"
    }
   ],
   "execution_count": 12
  },
  {
   "metadata": {},
   "cell_type": "markdown",
   "source": [
    "### Previous Crime\n",
    "\n",
    "This column is a binary column with 0 meaning no previous crime and 1 meaning that the offender committed a crime before. The number of offenders that previously committed a crime before is 194 compared to 189 that never committed a crime before."
   ]
  },
  {
   "metadata": {
    "ExecuteTime": {
     "end_time": "2024-09-04T21:56:46.029001Z",
     "start_time": "2024-09-04T21:56:46.018792Z"
    }
   },
   "cell_type": "code",
   "source": "small_df[\"PreviousCrime\"].value_counts()",
   "outputs": [
    {
     "data": {
      "text/plain": [
       "PreviousCrime\n",
       "Yes    194\n",
       "No     189\n",
       "Name: count, dtype: int64"
      ]
     },
     "execution_count": 13,
     "metadata": {},
     "output_type": "execute_result"
    }
   ],
   "execution_count": 13
  },
  {
   "metadata": {
    "ExecuteTime": {
     "end_time": "2024-09-04T21:56:46.713151Z",
     "start_time": "2024-09-04T21:56:46.558831Z"
    }
   },
   "cell_type": "code",
   "source": [
    "small_df[\"PreviousCrime\"].value_counts().plot(kind='barh')\n",
    "plt.title(\"Previous Crime\")\n",
    "plt.show()"
   ],
   "outputs": [
    {
     "data": {
      "text/plain": [
       "<Figure size 640x480 with 1 Axes>"
      ],
      "image/png": "[encoded data removed]"
     },
     "metadata": {},
     "output_type": "display_data"
    }
   ],
   "execution_count": 14
  },
  {
   "metadata": {},
   "cell_type": "markdown",
   "source": [
    "### Number of Victims\n",
    "\n",
    "The average number of victims is 1.4 so an offender is likely to have one victim. Having 3 or more victims is rare."
   ]
  },
  {
   "metadata": {
    "ExecuteTime": {
     "end_time": "2024-09-04T21:56:47.443695Z",
     "start_time": "2024-09-04T21:56:47.262887Z"
    }
   },
   "cell_type": "code",
   "source": [
    "small_df[\"NumberVictim\"].value_counts().sort_index().plot(kind=\"bar\")\n",
    "plt.title(\"Number of Victims\")\n",
    "plt.show()"
   ],
   "outputs": [
    {
     "data": {
      "text/plain": [
       "<Figure size 640x480 with 1 Axes>"
      ],
      "image/png": "[encoded data removed]"
     },
     "metadata": {},
     "output_type": "display_data"
    }
   ],
   "execution_count": 15
  },
  {
   "cell_type": "markdown",
   "metadata": {
    "id": "IZuCqdl0zCZy"
   },
   "source": [
    "## Statistical Inference"
   ]
  },
  {
   "cell_type": "markdown",
   "metadata": {
    "id": "1Dq2fGxM0dnU"
   },
   "source": [
    "### One mean"
   ]
  },
  {
   "cell_type": "markdown",
   "metadata": {
    "id": "soyonlcH0ev-"
   },
   "source": [
    "Now pick a variable that you can perform statistical inference on a single sample mean using the t-distribution."
   ]
  },
  {
   "cell_type": "markdown",
   "metadata": {
    "id": "87GfQFt3QjEy"
   },
   "source": [
    "In the code block below please respond to all of the following (commented out):\n",
    "\n",
    "*   What is the variable you chose?\n",
    "*   How do you know it is appropriate for statistical inference on a single mean using the t-distribution?\n",
    "*   You'll be asked to contruct and interpret a confidence interval. What is the level of confidence that you'll pick?\n",
    "*   You'll be asked to perform a hypothesis test.\n",
    "  *   What are the null and alternative hypotheses?\n",
    "  *   What is the level of significance?\n",
    "\n"
   ]
  },
  {
   "cell_type": "code",
   "metadata": {
    "id": "F7Nkbm1_SI5M",
    "ExecuteTime": {
     "end_time": "2024-09-04T21:56:47.729446Z",
     "start_time": "2024-09-04T21:56:47.723920Z"
    }
   },
   "source": [
    "# Responses to questions\n",
    "\n",
    "# 1. Age column\n",
    "# 2. The data is approximately normal and has a large enough sample size but, we do not know the population standard deviation. \n",
    "# 3. A 95% confidence level\n",
    "# 4. Null hypothesis: Most offenders are not over 30 years old\n",
    "#    Alternative: Most offenders are under 30 years old\n",
    "# 5. 0.05"
   ],
   "outputs": [],
   "execution_count": 16
  },
  {
   "cell_type": "markdown",
   "metadata": {
    "id": "h1o5o7cITLe6"
   },
   "source": [
    "#### Confidence Interval"
   ]
  },
  {
   "cell_type": "markdown",
   "metadata": {
    "id": "fnG0w6QeTYD1"
   },
   "source": [
    "Now construct a confidence interval for your chosen variable at the level of confidence you chose above."
   ]
  },
  {
   "metadata": {
    "ExecuteTime": {
     "end_time": "2024-09-04T21:56:47.841474Z",
     "start_time": "2024-09-04T21:56:47.832054Z"
    }
   },
   "cell_type": "code",
   "source": "df[\"Age\"].size",
   "outputs": [
    {
     "data": {
      "text/plain": [
       "383"
      ]
     },
     "execution_count": 17,
     "metadata": {},
     "output_type": "execute_result"
    }
   ],
   "execution_count": 17
  },
  {
   "cell_type": "code",
   "metadata": {
    "colab": {
     "base_uri": "https://localhost:8080/"
    },
    "id": "LeOuI5pITmwM",
    "outputId": "1547c853-0033-4986-d6a0-43d3576b4a2e",
    "ExecuteTime": {
     "end_time": "2024-09-04T21:56:47.978073Z",
     "start_time": "2024-09-04T21:56:47.968584Z"
    }
   },
   "source": [
    "# Construct the confidence interval\n",
    "stats.t.interval(\n",
    "    0.95, df[\"Age\"].size, loc=df[\"Age\"].mean(), scale=stats.sem(df[\"Age\"])\n",
    ")"
   ],
   "outputs": [
    {
     "data": {
      "text/plain": [
       "(38.50397306361337, 40.24276322881482)"
      ]
     },
     "execution_count": 18,
     "metadata": {},
     "output_type": "execute_result"
    }
   ],
   "execution_count": 18
  },
  {
   "cell_type": "markdown",
   "metadata": {
    "id": "emTNtBqvTqh3"
   },
   "source": [
    "Interpret the confidence interval in the code block below (commented out)."
   ]
  },
  {
   "cell_type": "code",
   "metadata": {
    "id": "2Bzz2cBcT6PV",
    "ExecuteTime": {
     "end_time": "2024-09-04T21:56:48.110112Z",
     "start_time": "2024-09-04T21:56:48.104833Z"
    }
   },
   "source": [
    "# Interpretation\n",
    "# I am 95% confident that the population mean for Age lies between 38.5 and 40 years old."
   ],
   "outputs": [],
   "execution_count": 19
  },
  {
   "cell_type": "markdown",
   "metadata": {
    "id": "VGFky-GaT_Om"
   },
   "source": [
    "#### Hypothesis Test"
   ]
  },
  {
   "cell_type": "markdown",
   "metadata": {
    "id": "C0l8ylVUUW9F"
   },
   "source": [
    "Now perform a hypothesis test for your chosen variable at the level of significance you chose above."
   ]
  },
  {
   "cell_type": "code",
   "metadata": {
    "colab": {
     "base_uri": "https://localhost:8080/"
    },
    "id": "rQ7qbMrrVNDm",
    "outputId": "c73b0131-879a-4568-ff73-6ee21874e1cb",
    "ExecuteTime": {
     "end_time": "2024-09-04T21:56:48.217319Z",
     "start_time": "2024-09-04T21:56:48.205140Z"
    }
   },
   "source": [
    "# Perform the hypothesis test\n",
    "\n",
    "t_statistic, p_value = stats.ttest_1samp(df[\"Age\"], 30, alternative=\"less\")\n",
    "t_statistic, p_value"
   ],
   "outputs": [
    {
     "data": {
      "text/plain": [
       "(21.198305605978778, 1.0)"
      ]
     },
     "execution_count": 20,
     "metadata": {},
     "output_type": "execute_result"
    }
   ],
   "execution_count": 20
  },
  {
   "metadata": {
    "ExecuteTime": {
     "end_time": "2024-09-04T21:56:48.364239Z",
     "start_time": "2024-09-04T21:56:48.351892Z"
    }
   },
   "cell_type": "code",
   "source": "stats.t(df=df[\"Age\"].size).ppf(0.025)",
   "outputs": [
    {
     "data": {
      "text/plain": [
       "-1.9661771911465"
      ]
     },
     "execution_count": 21,
     "metadata": {},
     "output_type": "execute_result"
    }
   ],
   "execution_count": 21
  },
  {
   "cell_type": "markdown",
   "metadata": {
    "id": "ZD2k0txIVX3y"
   },
   "source": [
    "Draw the appropriate conclusion for the hypothesis test and justify your answer in the code block below (commented out)."
   ]
  },
  {
   "cell_type": "code",
   "metadata": {
    "id": "8r7OoGfmVseA",
    "ExecuteTime": {
     "end_time": "2024-09-04T21:56:48.583062Z",
     "start_time": "2024-09-04T21:56:48.578113Z"
    }
   },
   "source": [
    "# Conclusion\n",
    "# With a p value of 1 we are unable to reject the null hypothesis. We are unable to conclude that offenders are under 30 years old"
   ],
   "outputs": [],
   "execution_count": 22
  },
  {
   "cell_type": "markdown",
   "metadata": {
    "id": "VnIXJUgCSH3l"
   },
   "source": [
    "### Two means"
   ]
  },
  {
   "cell_type": "markdown",
   "metadata": {
    "id": "IUlz7BvxSM5Q"
   },
   "source": [
    "Now pick a variable that you can perform statistical inference on two (independent) sample means using the t-distribution."
   ]
  },
  {
   "cell_type": "markdown",
   "metadata": {
    "id": "_PXV36ayTBJK"
   },
   "source": [
    "In the code block below please respond to all of the following (commented out):\n",
    "\n",
    "*   What are the variables you chose?\n",
    "*   How do you know it is appropriate for statistical inference on two (independent)means using the t-distribution?\n",
    "*   You'll be asked to contruct and interpret a confidence interval. What is the level of confidence that you'll pick?\n",
    "*   You'll be asked to perform a hypothesis test.\n",
    "  *   What are the null and alternative hypotheses?\n",
    "  *   What is the level of significance?"
   ]
  },
  {
   "cell_type": "code",
   "metadata": {
    "id": "yEAyU3Q4WTRp",
    "ExecuteTime": {
     "end_time": "2024-09-04T21:56:48.733546Z",
     "start_time": "2024-09-04T21:56:48.728632Z"
    }
   },
   "source": [
    "\n",
    "# Responses to questions\n",
    "\n",
    "# 1. Age & Previous Crime, so group age by previous crime\n",
    "# 2. The two samples have the same scale and unit of years and they are independent of each other.\n",
    "# 3. 95% Confidence Interval\n",
    "# 4. Null: The is no difference in ages between the groups\n",
    "#    Alternative: There is a difference between ages of people who have committed crimes before and those who haven't\n",
    "# 5. 0.05"
   ],
   "outputs": [],
   "execution_count": 23
  },
  {
   "cell_type": "markdown",
   "metadata": {
    "id": "Pc3egPxSWTdE"
   },
   "source": [
    "#### Confidence Interval"
   ]
  },
  {
   "cell_type": "markdown",
   "metadata": {
    "id": "3MiDuELxWZ_T"
   },
   "source": [
    "Now construct a confidence interval for your chosen variables at the level of confidence you chose above."
   ]
  },
  {
   "cell_type": "code",
   "metadata": {
    "colab": {
     "base_uri": "https://localhost:8080/"
    },
    "id": "-g1_OSomWexB",
    "outputId": "593645dd-e6b2-4679-9fb4-2b6f4b2474fa",
    "ExecuteTime": {
     "end_time": "2024-09-04T21:56:48.829543Z",
     "start_time": "2024-09-04T21:56:48.808380Z"
    }
   },
   "source": [
    "# Construct the confidence interval\n",
    "committed_age = df.query(\"PreviousCrime == 'Yes'\")[\"Age\"]\n",
    "not_committed_age = df.query(\"PreviousCrime == 'No'\")[\"Age\"]\n"
   ],
   "outputs": [],
   "execution_count": 24
  },
  {
   "metadata": {
    "ExecuteTime": {
     "end_time": "2024-09-04T21:56:48.930080Z",
     "start_time": "2024-09-04T21:56:48.922129Z"
    }
   },
   "cell_type": "code",
   "source": [
    "stats.t.interval(\n",
    "    0.95, loc=not_committed_age.mean(), scale=not_committed_age.std(ddof=1), df=not_committed_age.size\n",
    ")"
   ],
   "outputs": [
    {
     "data": {
      "text/plain": [
       "(19.7501298349024, 55.784261699489136)"
      ]
     },
     "execution_count": 25,
     "metadata": {},
     "output_type": "execute_result"
    }
   ],
   "execution_count": 25
  },
  {
   "metadata": {
    "ExecuteTime": {
     "end_time": "2024-09-04T21:56:48.997074Z",
     "start_time": "2024-09-04T21:56:48.986220Z"
    }
   },
   "cell_type": "code",
   "source": [
    "# Perform the hypothesis test\n",
    "sample1_var = committed_age.var(ddof=1)\n",
    "sample2_var = not_committed_age.var(ddof=1)\n",
    "stats.ttest_ind(committed_age, not_committed_age, equal_var=False).confidence_interval(0.95)"
   ],
   "outputs": [
    {
     "data": {
      "text/plain": [
       "ConfidenceInterval(low=1.4557737380591607, high=4.8861233873431225)"
      ]
     },
     "execution_count": 26,
     "metadata": {},
     "output_type": "execute_result"
    }
   ],
   "execution_count": 26
  },
  {
   "cell_type": "markdown",
   "metadata": {
    "id": "pPRD7akgWs1R"
   },
   "source": [
    "Interpret the confidence interval in the code block below (commented out)."
   ]
  },
  {
   "cell_type": "code",
   "metadata": {
    "id": "rKu1Jpo5Wvo8",
    "ExecuteTime": {
     "end_time": "2024-09-04T21:57:38.091256Z",
     "start_time": "2024-09-04T21:57:38.085694Z"
    }
   },
   "source": [
    "# Interpretation\n",
    "# I am 95% confident that the difference in Age between those who have committed a crime before and those who have not is between 1.5 and 4.8 years."
   ],
   "outputs": [],
   "execution_count": 31
  },
  {
   "cell_type": "markdown",
   "metadata": {
    "id": "6DsuqsS9XEPN"
   },
   "source": [
    "#### Hypothesis Test"
   ]
  },
  {
   "cell_type": "markdown",
   "metadata": {
    "id": "UqEBwLsyXHfi"
   },
   "source": [
    "Now perform a hypothesis test for your chosen variable at the level of significance you chose above."
   ]
  },
  {
   "cell_type": "code",
   "metadata": {
    "colab": {
     "base_uri": "https://localhost:8080/"
    },
    "id": "MGWw-zmJXLxO",
    "outputId": "5685bfef-62b5-457e-fdf8-1bc93efe2534",
    "ExecuteTime": {
     "end_time": "2024-09-04T21:56:49.119220Z",
     "start_time": "2024-09-04T21:56:49.111419Z"
    }
   },
   "source": [
    "# Perform the hypothesis test\n",
    "sample1_var = committed_age.var(ddof=1)\n",
    "sample2_var = not_committed_age.var(ddof=1)\n",
    "sample1_var, sample2_var"
   ],
   "outputs": [
    {
     "data": {
      "text/plain": [
       "(61.96506596869828, 83.42423730721602)"
      ]
     },
     "execution_count": 28,
     "metadata": {},
     "output_type": "execute_result"
    }
   ],
   "execution_count": 28
  },
  {
   "metadata": {
    "ExecuteTime": {
     "end_time": "2024-09-04T21:56:49.182759Z",
     "start_time": "2024-09-04T21:56:49.172585Z"
    }
   },
   "cell_type": "code",
   "source": "stats.ttest_ind(committed_age, not_committed_age, equal_var=False)\n",
   "outputs": [
    {
     "data": {
      "text/plain": [
       "TtestResult(statistic=3.6354011159056823, pvalue=0.0003168588346324058, df=369.86841615040595)"
      ]
     },
     "execution_count": 29,
     "metadata": {},
     "output_type": "execute_result"
    }
   ],
   "execution_count": 29
  },
  {
   "cell_type": "markdown",
   "metadata": {
    "id": "AdN0_obgXQlD"
   },
   "source": [
    "Draw the appropriate conclusion for the hypothesis test and justify your answer in the code block below (commented out)."
   ]
  },
  {
   "cell_type": "code",
   "metadata": {
    "id": "pGgMl_a-XRGo",
    "ExecuteTime": {
     "end_time": "2024-09-04T21:56:49.248139Z",
     "start_time": "2024-09-04T21:56:49.243353Z"
    }
   },
   "source": [
    "# Conclusion\n",
    "# With a p value of 0.0003 we can conclude that there is a difference in Age between those who have committed a crime before and those who have not."
   ],
   "outputs": [],
   "execution_count": 30
  },
  {
   "cell_type": "markdown",
   "metadata": {
    "id": "KiRJUYK3doCA"
   },
   "source": [
    "## Summary"
   ]
  },
  {
   "cell_type": "markdown",
   "metadata": {
    "id": "6x2NdSafXYsl"
   },
   "source": [
    "Using a multivariate data set, you were able to pick variables to perform one and two sample t confidence intervals and t-tests."
   ]
  }
 ],
 "metadata": {
  "colab": {
   "provenance": []
  },
  "kernelspec": {
   "display_name": "Python 3 (ipykernel)",
   "language": "python",
   "name": "python3"
  },
  "language_info": {
   "codemirror_mode": {
    "name": "ipython",
    "version": 3
   },
   "file_extension": ".py",
   "mimetype": "text/x-python",
   "name": "python",
   "nbconvert_exporter": "python",
   "pygments_lexer": "ipython3",
   "version": "3.9.7"
  }
 },
 "nbformat": 4,
 "nbformat_minor": 4
}
